{
 "cells": [
  {
   "cell_type": "markdown",
   "metadata": {},
   "source": [
    "# Game guess number"
   ]
  },
  {
   "cell_type": "code",
   "execution_count": 2,
   "metadata": {},
   "outputs": [],
   "source": [
    "from game_v2 import score_game, predict_number\n",
    "from test import test_game"
   ]
  },
  {
   "cell_type": "markdown",
   "metadata": {},
   "source": [
    "## guesses optimal"
   ]
  },
  {
   "cell_type": "code",
   "execution_count": 8,
   "metadata": {},
   "outputs": [
    {
     "name": "stdout",
     "output_type": "stream",
     "text": [
      "Your algorithm guesses the number on average in: 5 tries\n"
     ]
    },
    {
     "data": {
      "text/plain": [
       "5"
      ]
     },
     "execution_count": 8,
     "metadata": {},
     "output_type": "execute_result"
    }
   ],
   "source": [
    "score_game(predict_number) # call function"
   ]
  },
  {
   "cell_type": "code",
   "execution_count": 3,
   "metadata": {},
   "outputs": [
    {
     "name": "stdout",
     "output_type": "stream",
     "text": [
      "(7, {1: 7, 2: 6, 3: 7, 4: 5, 5: 6, 6: 7, 7: 4, 8: 6, 9: 7, 10: 5, 11: 6, 12: 7, 13: 3, 14: 6, 15: 7, 16: 5, 17: 6, 18: 7, 19: 4, 20: 6, 21: 7, 22: 5, 23: 7, 24: 6, 25: 7, 26: 2, 27: 6, 28: 7, 29: 5, 30: 6, 31: 7, 32: 4, 33: 6, 34: 7, 35: 5, 36: 6, 37: 7, 38: 3, 39: 6, 40: 7, 41: 5, 42: 6, 43: 7, 44: 4, 45: 6, 46: 7, 47: 5, 48: 7, 49: 6, 50: 7, 51: 1, 52: 6, 53: 7, 54: 5, 55: 6, 56: 7, 57: 4, 58: 6, 59: 7, 60: 5, 61: 6, 62: 7, 63: 3, 64: 6, 65: 7, 66: 5, 67: 6, 68: 7, 69: 4, 70: 6, 71: 7, 72: 5, 73: 7, 74: 6, 75: 7, 76: 2, 77: 6, 78: 7, 79: 5, 80: 6, 81: 7, 82: 4, 83: 6, 84: 7, 85: 5, 86: 6, 87: 7, 88: 3, 89: 6, 90: 7, 91: 5, 92: 6, 93: 7, 94: 4, 95: 6, 96: 7, 97: 5, 98: 7, 99: 6, 100: 7})\n"
     ]
    }
   ],
   "source": [
    "print(test_game(predict_number))"
   ]
  }
 ],
 "metadata": {
  "kernelspec": {
   "display_name": "Python 3.10.6 64-bit",
   "language": "python",
   "name": "python3"
  },
  "language_info": {
   "codemirror_mode": {
    "name": "ipython",
    "version": 3
   },
   "file_extension": ".py",
   "mimetype": "text/x-python",
   "name": "python",
   "nbconvert_exporter": "python",
   "pygments_lexer": "ipython3",
   "version": "3.10.6"
  },
  "orig_nbformat": 4,
  "vscode": {
   "interpreter": {
    "hash": "e7370f93d1d0cde622a1f8e1c04877d8463912d04d973331ad4851f04de6915a"
   }
  }
 },
 "nbformat": 4,
 "nbformat_minor": 2
}
